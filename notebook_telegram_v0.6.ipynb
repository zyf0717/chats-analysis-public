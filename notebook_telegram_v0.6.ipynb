{
 "cells": [
  {
   "cell_type": "code",
   "execution_count": 1,
   "metadata": {},
   "outputs": [],
   "source": [
    "import numpy as np\n",
    "import pandas as pd\n",
    "import plotly.express as px\n",
    "import plotly.graph_objs as go\n",
    "import plotly.figure_factory as ff\n",
    "import os\n",
    "import re\n",
    "import json\n",
    "import emoji\n",
    "from collections import Counter\n",
    "from statistics import mean, median, stdev\n",
    "\n",
    "import matplotlib.pyplot as plt\n",
    "\n",
    "from nltk.corpus import stopwords\n",
    "from nltk.stem import WordNetLemmatizer\n",
    "from wordcloud import WordCloud, ImageColorGenerator\n",
    "from textblob import TextBlob\n",
    "\n",
    "from sklearn.feature_extraction.text import CountVectorizer\n",
    "from sklearn.decomposition import LatentDirichletAllocation as LDA"
   ]
  },
  {
   "cell_type": "markdown",
   "metadata": {},
   "source": [
    "# Import Data"
   ]
  },
  {
   "cell_type": "code",
   "execution_count": 2,
   "metadata": {},
   "outputs": [],
   "source": [
    "# Read all lines\n",
    "\n",
    "files = sorted(os.listdir('./chats/'))\n",
    "\n",
    "chat_path = f'./chats/result.json'\n",
    "\n",
    "with open(chat_path, encoding='utf-8') as file:\n",
    "    lines = ''.join(file.readlines())\n",
    "\n",
    "json_data = json.loads(lines)\n",
    "tmp = pd.DataFrame(json_data)"
   ]
  },
  {
   "cell_type": "markdown",
   "metadata": {},
   "source": [
    "# Parse Data"
   ]
  },
  {
   "cell_type": "code",
   "execution_count": 3,
   "metadata": {},
   "outputs": [
    {
     "data": {
      "text/html": [
       "<div>\n",
       "<style scoped>\n",
       "    .dataframe tbody tr th:only-of-type {\n",
       "        vertical-align: middle;\n",
       "    }\n",
       "\n",
       "    .dataframe tbody tr th {\n",
       "        vertical-align: top;\n",
       "    }\n",
       "\n",
       "    .dataframe thead th {\n",
       "        text-align: right;\n",
       "    }\n",
       "</style>\n",
       "<table border=\"1\" class=\"dataframe\">\n",
       "  <thead>\n",
       "    <tr style=\"text-align: right;\">\n",
       "      <th></th>\n",
       "      <th>Date</th>\n",
       "      <th>Time</th>\n",
       "      <th>MMYYYY</th>\n",
       "      <th>Hour</th>\n",
       "      <th>Day</th>\n",
       "      <th>User</th>\n",
       "      <th>Message</th>\n",
       "      <th>Emojis</th>\n",
       "    </tr>\n",
       "  </thead>\n",
       "  <tbody>\n",
       "    <tr>\n",
       "      <th>0</th>\n",
       "      <td>2023-12-12</td>\n",
       "      <td>06:57:01</td>\n",
       "      <td>2023-12-01</td>\n",
       "      <td>6</td>\n",
       "      <td>Tuesday</td>\n",
       "      <td>User 0</td>\n",
       "      <td>Eh why your Instagram no posts one</td>\n",
       "      <td></td>\n",
       "    </tr>\n",
       "    <tr>\n",
       "      <th>1</th>\n",
       "      <td>2023-12-12</td>\n",
       "      <td>06:57:18</td>\n",
       "      <td>2023-12-01</td>\n",
       "      <td>6</td>\n",
       "      <td>Tuesday</td>\n",
       "      <td>User 0</td>\n",
       "      <td>Im sure you create a substantial amount of dig...</td>\n",
       "      <td></td>\n",
       "    </tr>\n",
       "    <tr>\n",
       "      <th>2</th>\n",
       "      <td>2023-12-12</td>\n",
       "      <td>10:03:57</td>\n",
       "      <td>2023-12-01</td>\n",
       "      <td>10</td>\n",
       "      <td>Tuesday</td>\n",
       "      <td>User 1</td>\n",
       "      <td>hahha need to upload more right! sometimes wil...</td>\n",
       "      <td>😂</td>\n",
       "    </tr>\n",
       "    <tr>\n",
       "      <th>3</th>\n",
       "      <td>2023-12-12</td>\n",
       "      <td>10:04:13</td>\n",
       "      <td>2023-12-01</td>\n",
       "      <td>10</td>\n",
       "      <td>Tuesday</td>\n",
       "      <td>User 1</td>\n",
       "      <td>maybe silly content hahaha</td>\n",
       "      <td></td>\n",
       "    </tr>\n",
       "    <tr>\n",
       "      <th>4</th>\n",
       "      <td>2023-12-12</td>\n",
       "      <td>10:04:25</td>\n",
       "      <td>2023-12-01</td>\n",
       "      <td>10</td>\n",
       "      <td>Tuesday</td>\n",
       "      <td>User 1</td>\n",
       "      <td>it's not rainy today at all - did you bird</td>\n",
       "      <td></td>\n",
       "    </tr>\n",
       "    <tr>\n",
       "      <th>...</th>\n",
       "      <td>...</td>\n",
       "      <td>...</td>\n",
       "      <td>...</td>\n",
       "      <td>...</td>\n",
       "      <td>...</td>\n",
       "      <td>...</td>\n",
       "      <td>...</td>\n",
       "      <td>...</td>\n",
       "    </tr>\n",
       "    <tr>\n",
       "      <th>10296</th>\n",
       "      <td>2024-05-07</td>\n",
       "      <td>10:36:14</td>\n",
       "      <td>2024-05-01</td>\n",
       "      <td>10</td>\n",
       "      <td>Tuesday</td>\n",
       "      <td>User 0</td>\n",
       "      <td>eh i don't get the otterwatch people 😂😂😂</td>\n",
       "      <td>😂😂😂</td>\n",
       "    </tr>\n",
       "    <tr>\n",
       "      <th>10297</th>\n",
       "      <td>2024-05-07</td>\n",
       "      <td>10:53:41</td>\n",
       "      <td>2024-05-01</td>\n",
       "      <td>10</td>\n",
       "      <td>Tuesday</td>\n",
       "      <td>User 1</td>\n",
       "      <td>haha I don't either</td>\n",
       "      <td></td>\n",
       "    </tr>\n",
       "    <tr>\n",
       "      <th>10298</th>\n",
       "      <td>2024-05-07</td>\n",
       "      <td>10:53:51</td>\n",
       "      <td>2024-05-01</td>\n",
       "      <td>10</td>\n",
       "      <td>Tuesday</td>\n",
       "      <td>User 1</td>\n",
       "      <td>they even have passports / IDs to recognise wh...</td>\n",
       "      <td></td>\n",
       "    </tr>\n",
       "    <tr>\n",
       "      <th>10299</th>\n",
       "      <td>2024-05-07</td>\n",
       "      <td>10:57:35</td>\n",
       "      <td>2024-05-01</td>\n",
       "      <td>10</td>\n",
       "      <td>Tuesday</td>\n",
       "      <td>User 0</td>\n",
       "      <td>WTF that’s insane, but then again if you’re on...</td>\n",
       "      <td>😂</td>\n",
       "    </tr>\n",
       "    <tr>\n",
       "      <th>10300</th>\n",
       "      <td>2024-05-07</td>\n",
       "      <td>10:58:22</td>\n",
       "      <td>2024-05-01</td>\n",
       "      <td>10</td>\n",
       "      <td>Tuesday</td>\n",
       "      <td>User 0</td>\n",
       "      <td>So I guess for them it’s to track intra specie...</td>\n",
       "      <td></td>\n",
       "    </tr>\n",
       "  </tbody>\n",
       "</table>\n",
       "<p>10033 rows × 8 columns</p>\n",
       "</div>"
      ],
      "text/plain": [
       "             Date      Time     MMYYYY  Hour      Day    User  \\\n",
       "0      2023-12-12  06:57:01 2023-12-01     6  Tuesday  User 0   \n",
       "1      2023-12-12  06:57:18 2023-12-01     6  Tuesday  User 0   \n",
       "2      2023-12-12  10:03:57 2023-12-01    10  Tuesday  User 1   \n",
       "3      2023-12-12  10:04:13 2023-12-01    10  Tuesday  User 1   \n",
       "4      2023-12-12  10:04:25 2023-12-01    10  Tuesday  User 1   \n",
       "...           ...       ...        ...   ...      ...     ...   \n",
       "10296  2024-05-07  10:36:14 2024-05-01    10  Tuesday  User 0   \n",
       "10297  2024-05-07  10:53:41 2024-05-01    10  Tuesday  User 1   \n",
       "10298  2024-05-07  10:53:51 2024-05-01    10  Tuesday  User 1   \n",
       "10299  2024-05-07  10:57:35 2024-05-01    10  Tuesday  User 0   \n",
       "10300  2024-05-07  10:58:22 2024-05-01    10  Tuesday  User 0   \n",
       "\n",
       "                                                 Message Emojis  \n",
       "0                     Eh why your Instagram no posts one         \n",
       "1      Im sure you create a substantial amount of dig...         \n",
       "2      hahha need to upload more right! sometimes wil...      😂  \n",
       "3                             maybe silly content hahaha         \n",
       "4             it's not rainy today at all - did you bird         \n",
       "...                                                  ...    ...  \n",
       "10296           eh i don't get the otterwatch people 😂😂😂    😂😂😂  \n",
       "10297                                haha I don't either         \n",
       "10298  they even have passports / IDs to recognise wh...         \n",
       "10299  WTF that’s insane, but then again if you’re on...      😂  \n",
       "10300  So I guess for them it’s to track intra specie...         \n",
       "\n",
       "[10033 rows x 8 columns]"
      ]
     },
     "execution_count": 3,
     "metadata": {},
     "output_type": "execute_result"
    }
   ],
   "source": [
    "days_of_week = [\"Monday\", \"Tuesday\", \"Wednesday\", \"Thursday\", \"Friday\", \"Saturday\", \"Sunday\"]\n",
    "\n",
    "def day_of_week(i):\n",
    "    return days_of_week[i]\n",
    "\n",
    "def extract_emojis(s):\n",
    "    return ''.join(c for c in s if str(c) in emoji.UNICODE_EMOJI)\n",
    "\n",
    "df = pd.json_normalize(tmp.messages)\n",
    "df = df[['date_unixtime', 'from', 'text']]\n",
    "df = df[df['text'].str.len() > 0]\n",
    "df.date_unixtime = df.date_unixtime.apply(lambda x: int(x) + 8 * 60 * 60)\n",
    "df['Date'] = pd.to_datetime(df.date_unixtime, unit='s').dt.date\n",
    "df['Time'] = pd.to_datetime(df.date_unixtime, unit='s').dt.time\n",
    "df['MMYYYY'] = df.Date.apply(lambda x: x.strftime(\"%m/%Y\"))\n",
    "df.MMYYYY = pd.to_datetime(df.MMYYYY, format='%m/%Y')\n",
    "df['Hour'] = pd.to_datetime(df.date_unixtime, unit='s').dt.hour\n",
    "df['Day'] = pd.to_datetime(df.date_unixtime, unit='s').dt.weekday\n",
    "df.Day = df.Day.apply(day_of_week)\n",
    "df.Day = df.Day.astype('category')\n",
    "df.Day.cat.reorder_categories(\n",
    "    days_of_week,\n",
    "    ordered=True,\n",
    "    inplace=True\n",
    ")\n",
    "df['Message'] = df.text.apply(lambda x: str(x))\n",
    "df['Emojis'] = df.Message.apply(extract_emojis)\n",
    "\n",
    "## Anoymize users\n",
    "df['User'] = [f'User {x}' for x in df['from'].factorize()[0]]\n",
    "df = df[['Date', 'Time', 'MMYYYY', 'Hour', 'Day', 'User', 'Message', 'Emojis']]\n",
    "\n",
    "df"
   ]
  },
  {
   "cell_type": "markdown",
   "metadata": {},
   "source": [
    "# Stats"
   ]
  },
  {
   "cell_type": "code",
   "execution_count": 4,
   "metadata": {},
   "outputs": [
    {
     "name": "stdout",
     "output_type": "stream",
     "text": [
      "User: User 0\n",
      "Messages sent: 5317\n",
      "Mean words per message: 9.390445740078992\n",
      "Median words per message: 7\n",
      "Max message length: 711 words\n",
      "Standard deviation: 14.77280560008465\n",
      "Top emojis: ['🌚', '😂', '😞', '🏻', '♂', '🙄', '😒', '🤔', '😏']\n",
      "\n"
     ]
    },
    {
     "data": {
      "text/html": [
       "<iframe\n",
       "    scrolling=\"no\"\n",
       "    width=\"100%\"\n",
       "    height=\"545px\"\n",
       "    src=\"iframe_figures/figure_4.html\"\n",
       "    frameborder=\"0\"\n",
       "    allowfullscreen\n",
       "></iframe>\n"
      ]
     },
     "metadata": {},
     "output_type": "display_data"
    },
    {
     "name": "stdout",
     "output_type": "stream",
     "text": [
      "User: User 1\n",
      "Messages sent: 4716\n",
      "Mean words per message: 8.486005089058525\n",
      "Median words per message: 6\n",
      "Max message length: 179 words\n",
      "Standard deviation: 9.149032090568253\n",
      "Top emojis: ['😂', '🤣', '😭', '🤔']\n",
      "\n"
     ]
    },
    {
     "data": {
      "text/html": [
       "<iframe\n",
       "    scrolling=\"no\"\n",
       "    width=\"100%\"\n",
       "    height=\"545px\"\n",
       "    src=\"iframe_figures/figure_4.html\"\n",
       "    frameborder=\"0\"\n",
       "    allowfullscreen\n",
       "></iframe>\n"
      ]
     },
     "metadata": {},
     "output_type": "display_data"
    }
   ],
   "source": [
    "## Need to update list of users\n",
    "users = sorted(list(set(df.User)))\n",
    "\n",
    "for user in users:\n",
    "    df_user = df[df.User == user]\n",
    "    message_lengths = df_user.Message.apply(lambda x : len(x.split(' ')))   \n",
    "    all_emojis = [x for y in df_user.Emojis.apply(lambda z: list(z)) for x in y if x != []]\n",
    "    emoji_counts = Counter(all_emojis)\n",
    "\n",
    "    print(f'User: {user}')\n",
    "    print(f'Messages sent: {df_user.shape[0]}')\n",
    "    print(f'Mean words per message: {mean(message_lengths)}')\n",
    "    print(f'Median words per message: {int(median(message_lengths))}')\n",
    "    print(f'Max message length: {max(message_lengths)} words')\n",
    "    print(f'Standard deviation: {stdev(message_lengths)}')\n",
    "    print(f'Top emojis: {[k for k, v in emoji_counts.items() if v >= 10]}')\n",
    "    print()\n",
    "#     print(f'Longest message:\\n{df_user.loc[message_lengths == max(message_lengths)].Message.values[0]}')\n",
    "#     print()\n",
    "\n",
    "    fig = ff.create_distplot(\n",
    "        hist_data=[list(filter(lambda x: x <= 50, message_lengths))], \n",
    "        group_labels=[user],\n",
    "        bin_size=[1]\n",
    "    )\n",
    "    fig.show(renderer=\"iframe\")\n",
    "    fig.write_html(f\"./plots/message_length_user_{user[-1]}.html\")"
   ]
  },
  {
   "cell_type": "markdown",
   "metadata": {},
   "source": [
    "## Plots"
   ]
  },
  {
   "cell_type": "code",
   "execution_count": 5,
   "metadata": {},
   "outputs": [],
   "source": [
    "color_theme = [px.colors.qualitative.Plotly[i] for i in [0, 5]] "
   ]
  },
  {
   "cell_type": "code",
   "execution_count": 6,
   "metadata": {},
   "outputs": [
    {
     "data": {
      "text/html": [
       "<iframe\n",
       "    scrolling=\"no\"\n",
       "    width=\"100%\"\n",
       "    height=\"545px\"\n",
       "    src=\"iframe_figures/figure_6.html\"\n",
       "    frameborder=\"0\"\n",
       "    allowfullscreen\n",
       "></iframe>\n"
      ]
     },
     "metadata": {},
     "output_type": "display_data"
    }
   ],
   "source": [
    "fig = px.histogram(df, x='MMYYYY', color='User', color_discrete_sequence=color_theme)\n",
    "fig.update_layout(bargap=0.1)\n",
    "fig.show(renderer=\"iframe\")"
   ]
  },
  {
   "cell_type": "code",
   "execution_count": 7,
   "metadata": {},
   "outputs": [],
   "source": [
    "fig.write_html(\"./plots/count_by_MMYYY.html\")"
   ]
  },
  {
   "cell_type": "code",
   "execution_count": 8,
   "metadata": {},
   "outputs": [
    {
     "data": {
      "text/html": [
       "<iframe\n",
       "    scrolling=\"no\"\n",
       "    width=\"100%\"\n",
       "    height=\"545px\"\n",
       "    src=\"iframe_figures/figure_8.html\"\n",
       "    frameborder=\"0\"\n",
       "    allowfullscreen\n",
       "></iframe>\n"
      ]
     },
     "metadata": {},
     "output_type": "display_data"
    }
   ],
   "source": [
    "fig = px.histogram(df, x='Hour', color='User', color_discrete_sequence=color_theme)\n",
    "fig = fig.update_layout(xaxis={'categoryorder': 'array', 'categoryarray': list(range(24))})\n",
    "fig.show(renderer=\"iframe\")"
   ]
  },
  {
   "cell_type": "code",
   "execution_count": 9,
   "metadata": {},
   "outputs": [],
   "source": [
    "fig.write_html(\"./plots/count_by_time.html\")"
   ]
  },
  {
   "cell_type": "code",
   "execution_count": 10,
   "metadata": {},
   "outputs": [
    {
     "data": {
      "text/html": [
       "<iframe\n",
       "    scrolling=\"no\"\n",
       "    width=\"100%\"\n",
       "    height=\"545px\"\n",
       "    src=\"iframe_figures/figure_10.html\"\n",
       "    frameborder=\"0\"\n",
       "    allowfullscreen\n",
       "></iframe>\n"
      ]
     },
     "metadata": {},
     "output_type": "display_data"
    }
   ],
   "source": [
    "fig = px.histogram(df, x='Day', color='User', color_discrete_sequence=color_theme)\n",
    "fig.update_layout(bargap=0.1, xaxis={'categoryorder': 'array', 'categoryarray': days_of_week})\n",
    "fig.show(renderer=\"iframe\")"
   ]
  },
  {
   "cell_type": "code",
   "execution_count": 11,
   "metadata": {},
   "outputs": [],
   "source": [
    "fig.write_html(\"./plots/count_by_day.html\")"
   ]
  },
  {
   "cell_type": "code",
   "execution_count": 12,
   "metadata": {},
   "outputs": [
    {
     "data": {
      "text/html": [
       "<div>\n",
       "<style scoped>\n",
       "    .dataframe tbody tr th:only-of-type {\n",
       "        vertical-align: middle;\n",
       "    }\n",
       "\n",
       "    .dataframe tbody tr th {\n",
       "        vertical-align: top;\n",
       "    }\n",
       "\n",
       "    .dataframe thead th {\n",
       "        text-align: right;\n",
       "    }\n",
       "</style>\n",
       "<table border=\"1\" class=\"dataframe\">\n",
       "  <thead>\n",
       "    <tr style=\"text-align: right;\">\n",
       "      <th></th>\n",
       "      <th>Day</th>\n",
       "      <th>Hour</th>\n",
       "      <th>Message</th>\n",
       "    </tr>\n",
       "  </thead>\n",
       "  <tbody>\n",
       "    <tr>\n",
       "      <th>0</th>\n",
       "      <td>Sunday</td>\n",
       "      <td>0</td>\n",
       "      <td>66</td>\n",
       "    </tr>\n",
       "    <tr>\n",
       "      <th>1</th>\n",
       "      <td>Saturday</td>\n",
       "      <td>0</td>\n",
       "      <td>31</td>\n",
       "    </tr>\n",
       "    <tr>\n",
       "      <th>2</th>\n",
       "      <td>Friday</td>\n",
       "      <td>0</td>\n",
       "      <td>8</td>\n",
       "    </tr>\n",
       "    <tr>\n",
       "      <th>3</th>\n",
       "      <td>Thursday</td>\n",
       "      <td>0</td>\n",
       "      <td>62</td>\n",
       "    </tr>\n",
       "    <tr>\n",
       "      <th>4</th>\n",
       "      <td>Wednesday</td>\n",
       "      <td>0</td>\n",
       "      <td>0</td>\n",
       "    </tr>\n",
       "    <tr>\n",
       "      <th>...</th>\n",
       "      <td>...</td>\n",
       "      <td>...</td>\n",
       "      <td>...</td>\n",
       "    </tr>\n",
       "    <tr>\n",
       "      <th>163</th>\n",
       "      <td>Friday</td>\n",
       "      <td>23</td>\n",
       "      <td>83</td>\n",
       "    </tr>\n",
       "    <tr>\n",
       "      <th>164</th>\n",
       "      <td>Thursday</td>\n",
       "      <td>23</td>\n",
       "      <td>71</td>\n",
       "    </tr>\n",
       "    <tr>\n",
       "      <th>165</th>\n",
       "      <td>Wednesday</td>\n",
       "      <td>23</td>\n",
       "      <td>154</td>\n",
       "    </tr>\n",
       "    <tr>\n",
       "      <th>166</th>\n",
       "      <td>Tuesday</td>\n",
       "      <td>23</td>\n",
       "      <td>4</td>\n",
       "    </tr>\n",
       "    <tr>\n",
       "      <th>167</th>\n",
       "      <td>Monday</td>\n",
       "      <td>23</td>\n",
       "      <td>277</td>\n",
       "    </tr>\n",
       "  </tbody>\n",
       "</table>\n",
       "<p>168 rows × 3 columns</p>\n",
       "</div>"
      ],
      "text/plain": [
       "           Day  Hour  Message\n",
       "0       Sunday     0       66\n",
       "1     Saturday     0       31\n",
       "2       Friday     0        8\n",
       "3     Thursday     0       62\n",
       "4    Wednesday     0        0\n",
       "..         ...   ...      ...\n",
       "163     Friday    23       83\n",
       "164   Thursday    23       71\n",
       "165  Wednesday    23      154\n",
       "166    Tuesday    23        4\n",
       "167     Monday    23      277\n",
       "\n",
       "[168 rows x 3 columns]"
      ]
     },
     "execution_count": 12,
     "metadata": {},
     "output_type": "execute_result"
    }
   ],
   "source": [
    "df_heatmap = df\\\n",
    "    .groupby(['Day', 'Hour'])\\\n",
    "    .Message\\\n",
    "    .count()\\\n",
    "    .reset_index()\\\n",
    "    .sort_values(['Hour', 'Day'], ascending=[True, False])\\\n",
    "    .reset_index(drop=True)\\\n",
    "\n",
    "df_heatmap"
   ]
  },
  {
   "cell_type": "code",
   "execution_count": 13,
   "metadata": {},
   "outputs": [
    {
     "data": {
      "text/html": [
       "<iframe\n",
       "    scrolling=\"no\"\n",
       "    width=\"100%\"\n",
       "    height=\"545px\"\n",
       "    src=\"iframe_figures/figure_13.html\"\n",
       "    frameborder=\"0\"\n",
       "    allowfullscreen\n",
       "></iframe>\n"
      ]
     },
     "metadata": {},
     "output_type": "display_data"
    }
   ],
   "source": [
    "data = [\n",
    "    go.Heatmap(\n",
    "        x=df_heatmap.Hour,\n",
    "        y=df_heatmap.Day,\n",
    "        z=df_heatmap.Message\n",
    "    )\n",
    "]\n",
    "\n",
    "layout = go.Layout(title='Message Count')\n",
    "\n",
    "fig = go.Figure(data=data, layout=layout)\n",
    "fig.show(renderer=\"iframe\")"
   ]
  },
  {
   "cell_type": "code",
   "execution_count": 14,
   "metadata": {},
   "outputs": [],
   "source": [
    "fig.write_html(\"./plots/count_by_day_time.html\")"
   ]
  },
  {
   "cell_type": "markdown",
   "metadata": {},
   "source": [
    "# Word Cloud\n",
    "Wrote my own n-gram parser, for fun :)"
   ]
  },
  {
   "cell_type": "code",
   "execution_count": 15,
   "metadata": {},
   "outputs": [],
   "source": [
    "stop_words = set(stopwords.words('english'))\n",
    "\n",
    "def get_frequency(df, col_name):\n",
    "    text_list = list(df[col_name])\n",
    "    lemmatizer = WordNetLemmatizer()\n",
    "    frequency = {}\n",
    "    for text in text_list:\n",
    "        temp = []\n",
    "        text = str(text)\n",
    "        text = re.sub('[^a-zA-Z ]+', '', text)\n",
    "        text = text.lower()\n",
    "        text = text.split(' ')\n",
    "        for word in text:\n",
    "            word = lemmatizer.lemmatize(word)\n",
    "            temp.append(word)\n",
    "        text = ' '.join(temp)\n",
    "        if text in frequency:\n",
    "            frequency[text] += 1\n",
    "        else:\n",
    "            frequency[text] = 1\n",
    "    return frequency\n",
    "            \n",
    "def get_ngram_frequency(df, col_name, stop_words, n):\n",
    "    text_list = list(df[col_name])\n",
    "    stop_words = stop_words\n",
    "    lemmatizer = WordNetLemmatizer()\n",
    "    frequency = {}\n",
    "    for text in text_list:\n",
    "        temp = []\n",
    "        text = str(text)\n",
    "        text = re.sub('[^a-zA-Z ]+', '', text)\n",
    "        text = text.lower()\n",
    "        text = text.split(' ')\n",
    "        for word in text:\n",
    "            if word not in stop_words:\n",
    "                temp.append(word)\n",
    "        for i in range(len(temp)):\n",
    "            if i + n - 1 < len(temp):\n",
    "                word = temp[i]\n",
    "                word = lemmatizer.lemmatize(word)\n",
    "                for j in range(n - 1):\n",
    "                    word = word + ' ' + temp[i+j+1]\n",
    "                if word in frequency:\n",
    "                    frequency[word] += 1\n",
    "                else:\n",
    "                    frequency[word] = 1\n",
    "    if '' in frequency:\n",
    "        frequency[''] = 0\n",
    "    return frequency\n",
    "\n",
    "def merge_ngram_frequencies(df, col_name, stop_words, n):\n",
    "    merged_dicts = {}\n",
    "    for i in list(range(1, n+1)):\n",
    "        temp_dict = get_ngram_frequency(df, col_name, stop_words, i)\n",
    "        merged_dicts.update(temp_dict)\n",
    "    return merged_dicts\n",
    "\n",
    "def get_wordcloud(freq):\n",
    "    wordcloud = WordCloud(\n",
    "        background_color=\"white\",\n",
    "        width=1920,\n",
    "        height=1080, \n",
    "        max_words=10000,\n",
    "        relative_scaling=1,\n",
    "        random_state=42\n",
    "    ).generate_from_frequencies(freq)\n",
    "    \n",
    "    plt.imshow(wordcloud, interpolation='bilinear')\n",
    "    plt.axis(\"off\")\n",
    "    plt.show()\n",
    "    \n",
    "    return wordcloud"
   ]
  },
  {
   "cell_type": "code",
   "execution_count": 16,
   "metadata": {},
   "outputs": [
    {
     "data": {
      "image/png": "[encoded data removed]",
      "text/plain": [
       "<Figure size 432x288 with 1 Axes>"
      ]
     },
     "metadata": {
      "needs_background": "light"
     },
     "output_type": "display_data"
    },
    {
     "name": "stdout",
     "output_type": "stream",
     "text": [
      "CPU times: user 7.66 s, sys: 273 ms, total: 7.93 s\n",
      "Wall time: 8.02 s\n"
     ]
    }
   ],
   "source": [
    "%%time\n",
    "\n",
    "freq = merge_ngram_frequencies(df, 'Message', stop_words, 3)\n",
    "wc = get_wordcloud(freq)"
   ]
  },
  {
   "cell_type": "code",
   "execution_count": 17,
   "metadata": {},
   "outputs": [
    {
     "data": {
      "text/plain": [
       "<wordcloud.wordcloud.WordCloud at 0x7d6cddcb2160>"
      ]
     },
     "execution_count": 17,
     "metadata": {},
     "output_type": "execute_result"
    }
   ],
   "source": [
    "wc.to_file('./wordclouds/wc1.png')"
   ]
  },
  {
   "cell_type": "markdown",
   "metadata": {},
   "source": [
    "# Topic Analysis"
   ]
  },
  {
   "cell_type": "code",
   "execution_count": 18,
   "metadata": {},
   "outputs": [
    {
     "data": {
      "text/plain": [
       "LatentDirichletAllocation(n_components=5, n_jobs=-1)"
      ]
     },
     "execution_count": 18,
     "metadata": {},
     "output_type": "execute_result"
    }
   ],
   "source": [
    "count_vectorizer = CountVectorizer(stop_words='english')\n",
    "count_data = count_vectorizer.fit_transform(df.Message)\n",
    "\n",
    "lda = LDA(n_components=5, n_jobs=-1)\n",
    "lda.fit(count_data)"
   ]
  },
  {
   "cell_type": "code",
   "execution_count": 19,
   "metadata": {},
   "outputs": [
    {
     "name": "stdout",
     "output_type": "stream",
     "text": [
      "Topics found via LDA:\n",
      "\n",
      "Topic #0:\n",
      "cause just like bird time think know actually photos birding\n",
      "\n",
      "Topic #1:\n",
      "like haha think people just need mean does really ic\n",
      "\n",
      "Topic #2:\n",
      "lol like hahaha ya people maybe haha la ok think\n",
      "\n",
      "Topic #3:\n",
      "think just alr don right time omg ya xy hahahaha\n",
      "\n",
      "Topic #4:\n",
      "oh ya yes type text link https com www just\n"
     ]
    }
   ],
   "source": [
    "def print_topics(model, count_vectorizer, n_top_words):\n",
    "    words = count_vectorizer.get_feature_names()\n",
    "    for topic_idx, topic in enumerate(model.components_):\n",
    "        print(\"\\nTopic #%d:\" % topic_idx)\n",
    "        print(\" \".join([words[i]\n",
    "                        for i in topic.argsort()[:-n_top_words - 1:-1]]))\n",
    "        \n",
    "print(\"Topics found via LDA:\")\n",
    "print_topics(lda, count_vectorizer, 10)"
   ]
  },
  {
   "cell_type": "markdown",
   "metadata": {},
   "source": [
    "# Sentiment Analysis"
   ]
  },
  {
   "cell_type": "code",
   "execution_count": 20,
   "metadata": {},
   "outputs": [],
   "source": [
    "def get_sentiment(message):\n",
    "    return mean(x.sentiment.polarity for x in TextBlob(message).sentences)"
   ]
  },
  {
   "cell_type": "code",
   "execution_count": 21,
   "metadata": {},
   "outputs": [
    {
     "name": "stdout",
     "output_type": "stream",
     "text": [
      "CPU times: user 1.05 s, sys: 15.7 ms, total: 1.06 s\n",
      "Wall time: 1.06 s\n"
     ]
    }
   ],
   "source": [
    "%%time\n",
    "\n",
    "df['Sentiment'] = df.Message.apply(lambda x: get_sentiment(x))"
   ]
  },
  {
   "cell_type": "code",
   "execution_count": 22,
   "metadata": {},
   "outputs": [
    {
     "data": {
      "text/html": [
       "<iframe\n",
       "    scrolling=\"no\"\n",
       "    width=\"100%\"\n",
       "    height=\"545px\"\n",
       "    src=\"iframe_figures/figure_22.html\"\n",
       "    frameborder=\"0\"\n",
       "    allowfullscreen\n",
       "></iframe>\n"
      ]
     },
     "metadata": {},
     "output_type": "display_data"
    },
    {
     "data": {
      "text/html": [
       "<iframe\n",
       "    scrolling=\"no\"\n",
       "    width=\"100%\"\n",
       "    height=\"545px\"\n",
       "    src=\"iframe_figures/figure_22.html\"\n",
       "    frameborder=\"0\"\n",
       "    allowfullscreen\n",
       "></iframe>\n"
      ]
     },
     "metadata": {},
     "output_type": "display_data"
    }
   ],
   "source": [
    "hhmm_list = pd.date_range('00:00', '23:59', freq='1min').time\n",
    "\n",
    "for user in users:\n",
    "    df_sentiments = df[df.User == user][['Date', 'Sentiment', 'User']].groupby(['Date', 'User']).mean()\n",
    "    df_sentiments.reset_index(inplace=True)\n",
    "\n",
    "    fig = px.bar(df_sentiments, x='Date', y='Sentiment', color='User', color_discrete_sequence=color_theme)\n",
    "    fig.update_layout(xaxis={'categoryorder': 'array', 'categoryarray': hhmm_list})\n",
    "    fig.write_html(f\"./plots/sentiments_user_{user[-1]}.html\")\n",
    "    fig.show(renderer=\"iframe\")"
   ]
  },
  {
   "cell_type": "code",
   "execution_count": null,
   "metadata": {},
   "outputs": [],
   "source": []
  }
 ],
 "metadata": {
  "kernelspec": {
   "display_name": "Python 3",
   "language": "python",
   "name": "python3"
  },
  "language_info": {
   "codemirror_mode": {
    "name": "ipython",
    "version": 3
   },
   "file_extension": ".py",
   "mimetype": "text/x-python",
   "name": "python",
   "nbconvert_exporter": "python",
   "pygments_lexer": "ipython3",
   "version": "3.8.5"
  }
 },
 "nbformat": 4,
 "nbformat_minor": 4
}
